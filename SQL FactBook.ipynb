{
 "cells": [
  {
   "cell_type": "markdown",
   "id": "207c6702",
   "metadata": {},
   "source": [
    "# __Analyzing CIA Factbook Data Using SQL__"
   ]
  },
  {
   "cell_type": "markdown",
   "id": "944926cf",
   "metadata": {},
   "source": [
    "In this SQL project we will explore the [CIA World Factbook]( https://www.cia.gov/the-world-factbook/), a compendium of statistics about all countries on Earth such as land mass and population. \n",
    "\n",
    "To use SQL within Jupyter Notebook we first need to install [ipython-sql]( https://github.com/catherinedevlin/ipython-sql), if you have the Anaconda installed you can do so by simply running [this code]( https://anaconda.org/conda-forge/ipython-sql)"
   ]
  },
  {
   "cell_type": "code",
   "execution_count": 1,
   "id": "65cbccaf",
   "metadata": {
    "scrolled": false
   },
   "outputs": [],
   "source": [
    "#!conda install -yc conda-forge ipython-sql"
   ]
  },
  {
   "cell_type": "markdown",
   "id": "ece89724",
   "metadata": {},
   "source": [
    "# __Importing Database__"
   ]
  },
  {
   "cell_type": "markdown",
   "id": "2c7c0904",
   "metadata": {},
   "source": [
    "To connect our Jupyter Notebook to our database we use `%%capture`, `%load_ext sql` and `sqlite:///` "
   ]
  },
  {
   "cell_type": "code",
   "execution_count": 2,
   "id": "2b890852",
   "metadata": {},
   "outputs": [],
   "source": [
    "%%capture\n",
    "%load_ext sql\n",
    "%sql sqlite:///factbook.db"
   ]
  },
  {
   "cell_type": "markdown",
   "id": "324a0cec",
   "metadata": {},
   "source": [
    "To run our SQL queries, we need to add `%%sql` at the start of each query. To check that our database is properly connected to our Jupyter Notebook we will create a SELECT query from sqlite_master to list all tables. "
   ]
  },
  {
   "cell_type": "code",
   "execution_count": 3,
   "id": "98cffd0b",
   "metadata": {
    "scrolled": true
   },
   "outputs": [
    {
     "name": "stdout",
     "output_type": "stream",
     "text": [
      " * sqlite:///factbook.db\n",
      "Done.\n"
     ]
    },
    {
     "data": {
      "text/html": [
       "<table>\n",
       "    <thead>\n",
       "        <tr>\n",
       "            <th>type</th>\n",
       "            <th>name</th>\n",
       "            <th>tbl_name</th>\n",
       "            <th>rootpage</th>\n",
       "            <th>sql</th>\n",
       "        </tr>\n",
       "    </thead>\n",
       "    <tbody>\n",
       "        <tr>\n",
       "            <td>table</td>\n",
       "            <td>sqlite_sequence</td>\n",
       "            <td>sqlite_sequence</td>\n",
       "            <td>3</td>\n",
       "            <td>CREATE TABLE sqlite_sequence(name,seq)</td>\n",
       "        </tr>\n",
       "        <tr>\n",
       "            <td>table</td>\n",
       "            <td>facts</td>\n",
       "            <td>facts</td>\n",
       "            <td>47</td>\n",
       "            <td>CREATE TABLE &quot;facts&quot; (&quot;id&quot; INTEGER PRIMARY KEY AUTOINCREMENT NOT NULL, &quot;code&quot; varchar(255) NOT NULL, &quot;name&quot; varchar(255) NOT NULL, &quot;area&quot; integer, &quot;area_land&quot; integer, &quot;area_water&quot; integer, &quot;population&quot; integer, &quot;population_growth&quot; float, &quot;birth_rate&quot; float, &quot;death_rate&quot; float, &quot;migration_rate&quot; float)</td>\n",
       "        </tr>\n",
       "    </tbody>\n",
       "</table>"
      ],
      "text/plain": [
       "[('table', 'sqlite_sequence', 'sqlite_sequence', 3, 'CREATE TABLE sqlite_sequence(name,seq)'),\n",
       " ('table', 'facts', 'facts', 47, 'CREATE TABLE \"facts\" (\"id\" INTEGER PRIMARY KEY AUTOINCREMENT NOT NULL, \"code\" varchar(255) NOT NULL, \"name\" varchar(255) NOT NULL, \"area\" integer, \"a ... (4 characters truncated) ... land\" integer, \"area_water\" integer, \"population\" integer, \"population_growth\" float, \"birth_rate\" float, \"death_rate\" float, \"migration_rate\" float)')]"
      ]
     },
     "execution_count": 3,
     "metadata": {},
     "output_type": "execute_result"
    }
   ],
   "source": [
    "%%sql\n",
    "SELECT *\n",
    "FROM sqlite_master\n",
    "WHERE type='table';"
   ]
  },
  {
   "cell_type": "markdown",
   "id": "e86054a7",
   "metadata": {},
   "source": [
    "We can see that our __factbook.db__ has been connected and created a database called __facts__.  We can now look at the first couple of rows to analyses columns in our database. "
   ]
  },
  {
   "cell_type": "code",
   "execution_count": 4,
   "id": "7ef03282",
   "metadata": {},
   "outputs": [
    {
     "name": "stdout",
     "output_type": "stream",
     "text": [
      " * sqlite:///factbook.db\n",
      "Done.\n"
     ]
    },
    {
     "data": {
      "text/html": [
       "<table>\n",
       "    <thead>\n",
       "        <tr>\n",
       "            <th>id</th>\n",
       "            <th>code</th>\n",
       "            <th>name</th>\n",
       "            <th>area</th>\n",
       "            <th>area_land</th>\n",
       "            <th>area_water</th>\n",
       "            <th>population</th>\n",
       "            <th>population_growth</th>\n",
       "            <th>birth_rate</th>\n",
       "            <th>death_rate</th>\n",
       "            <th>migration_rate</th>\n",
       "        </tr>\n",
       "    </thead>\n",
       "    <tbody>\n",
       "        <tr>\n",
       "            <td>1</td>\n",
       "            <td>af</td>\n",
       "            <td>Afghanistan</td>\n",
       "            <td>652230</td>\n",
       "            <td>652230</td>\n",
       "            <td>0</td>\n",
       "            <td>32564342</td>\n",
       "            <td>2.32</td>\n",
       "            <td>38.57</td>\n",
       "            <td>13.89</td>\n",
       "            <td>1.51</td>\n",
       "        </tr>\n",
       "        <tr>\n",
       "            <td>2</td>\n",
       "            <td>al</td>\n",
       "            <td>Albania</td>\n",
       "            <td>28748</td>\n",
       "            <td>27398</td>\n",
       "            <td>1350</td>\n",
       "            <td>3029278</td>\n",
       "            <td>0.3</td>\n",
       "            <td>12.92</td>\n",
       "            <td>6.58</td>\n",
       "            <td>3.3</td>\n",
       "        </tr>\n",
       "        <tr>\n",
       "            <td>3</td>\n",
       "            <td>ag</td>\n",
       "            <td>Algeria</td>\n",
       "            <td>2381741</td>\n",
       "            <td>2381741</td>\n",
       "            <td>0</td>\n",
       "            <td>39542166</td>\n",
       "            <td>1.84</td>\n",
       "            <td>23.67</td>\n",
       "            <td>4.31</td>\n",
       "            <td>0.92</td>\n",
       "        </tr>\n",
       "        <tr>\n",
       "            <td>4</td>\n",
       "            <td>an</td>\n",
       "            <td>Andorra</td>\n",
       "            <td>468</td>\n",
       "            <td>468</td>\n",
       "            <td>0</td>\n",
       "            <td>85580</td>\n",
       "            <td>0.12</td>\n",
       "            <td>8.13</td>\n",
       "            <td>6.96</td>\n",
       "            <td>0.0</td>\n",
       "        </tr>\n",
       "        <tr>\n",
       "            <td>5</td>\n",
       "            <td>ao</td>\n",
       "            <td>Angola</td>\n",
       "            <td>1246700</td>\n",
       "            <td>1246700</td>\n",
       "            <td>0</td>\n",
       "            <td>19625353</td>\n",
       "            <td>2.78</td>\n",
       "            <td>38.78</td>\n",
       "            <td>11.49</td>\n",
       "            <td>0.46</td>\n",
       "        </tr>\n",
       "    </tbody>\n",
       "</table>"
      ],
      "text/plain": [
       "[(1, 'af', 'Afghanistan', 652230, 652230, 0, 32564342, 2.32, 38.57, 13.89, 1.51),\n",
       " (2, 'al', 'Albania', 28748, 27398, 1350, 3029278, 0.3, 12.92, 6.58, 3.3),\n",
       " (3, 'ag', 'Algeria', 2381741, 2381741, 0, 39542166, 1.84, 23.67, 4.31, 0.92),\n",
       " (4, 'an', 'Andorra', 468, 468, 0, 85580, 0.12, 8.13, 6.96, 0.0),\n",
       " (5, 'ao', 'Angola', 1246700, 1246700, 0, 19625353, 2.78, 38.78, 11.49, 0.46)]"
      ]
     },
     "execution_count": 4,
     "metadata": {},
     "output_type": "execute_result"
    }
   ],
   "source": [
    "%%sql \n",
    "SELECT * FROM facts LIMIT 5"
   ]
  },
  {
   "cell_type": "markdown",
   "id": "e497a80a",
   "metadata": {},
   "source": [
    "We can see that our database has 11 columns \n",
    "- `id`: A unique number for each row\n",
    "- `code`: The unique 2 letter code for each country \n",
    "- `name`: The name of the country \n",
    "- `area`: The country’s area in square kilometers \n",
    "- `area_land`: The country’s land area in square kilometers\n",
    "- `area_water`: The country’s water area in square kilometers\n",
    "- `population`: The country’s population\n",
    "- `population_growth`: The country's population growth as a percentage.\n",
    "- `birth_rate`: The country's birth rate, or the number of births a year per 1,000 people.\n",
    "- `death_rate`: The country's death rate, or the number of death a year per 1,000 people.\n",
    "- `migration_rate`: The country's migration rate, or the number of migrants a year per 1,000 people."
   ]
  },
  {
   "cell_type": "markdown",
   "id": "54c669bc",
   "metadata": {},
   "source": [
    "# __Summarizing Statistics__"
   ]
  },
  {
   "cell_type": "markdown",
   "id": "8bd9030f",
   "metadata": {},
   "source": [
    "The next step is for us to use SQL to explore some summarizing statistics and search for some potential outliners. We will start with looking at population and population growth using the [`MIN()`, `Max()` and AVG()](https://www.sqlite.org/lang_corefunc.html) functions. "
   ]
  },
  {
   "cell_type": "code",
   "execution_count": 5,
   "id": "40d2901a",
   "metadata": {},
   "outputs": [
    {
     "name": "stdout",
     "output_type": "stream",
     "text": [
      " * sqlite:///factbook.db\n",
      "Done.\n"
     ]
    },
    {
     "data": {
      "text/html": [
       "<table>\n",
       "    <thead>\n",
       "        <tr>\n",
       "            <th>Smallest_Population</th>\n",
       "            <th>Largest_Population</th>\n",
       "            <th>Average_Population</th>\n",
       "            <th>Smallest_Area</th>\n",
       "            <th>Largest_Area</th>\n",
       "            <th>Average_Area</th>\n",
       "        </tr>\n",
       "    </thead>\n",
       "    <tbody>\n",
       "        <tr>\n",
       "            <td>0</td>\n",
       "            <td>7256490011</td>\n",
       "            <td>62094928.32231405</td>\n",
       "            <td>0</td>\n",
       "            <td>17098242</td>\n",
       "            <td>555093.546184739</td>\n",
       "        </tr>\n",
       "    </tbody>\n",
       "</table>"
      ],
      "text/plain": [
       "[(0, 7256490011, 62094928.32231405, 0, 17098242, 555093.546184739)]"
      ]
     },
     "execution_count": 5,
     "metadata": {},
     "output_type": "execute_result"
    }
   ],
   "source": [
    "%%sql \n",
    "SELECT MIN(population) AS Smallest_Population, \n",
    "MAX(population) AS Largest_Population,\n",
    "AVG(population) AS Average_Population,\n",
    "MIN(Area) AS Smallest_Area,\n",
    "MAX(Area) AS Largest_Area,\n",
    "AVG(Area) AS Average_Area\n",
    "FROM facts"
   ]
  },
  {
   "cell_type": "markdown",
   "id": "b3288628",
   "metadata": {},
   "source": [
    "We can see that there are some strange outliners in our summarizing statistics:\n",
    "- There is a country with a population of `0`\n",
    "- There is a country with a area of `0`\n",
    "- There is a country with a population of `7256490011` \n",
    "- The average population per country is `62094928`\n",
    "\n",
    "We can create a SQL query that determines the name of our outliers where we insert our original query in our WHERE clause. "
   ]
  },
  {
   "cell_type": "markdown",
   "id": "2c7cf1f5",
   "metadata": {},
   "source": [
    "### __Finding Countries with Populations and Area of `0`__"
   ]
  },
  {
   "cell_type": "code",
   "execution_count": 6,
   "id": "95ddc343",
   "metadata": {
    "scrolled": true
   },
   "outputs": [
    {
     "name": "stdout",
     "output_type": "stream",
     "text": [
      " * sqlite:///factbook.db\n",
      "Done.\n"
     ]
    },
    {
     "data": {
      "text/html": [
       "<table>\n",
       "    <thead>\n",
       "        <tr>\n",
       "            <th>id</th>\n",
       "            <th>code</th>\n",
       "            <th>name</th>\n",
       "            <th>area</th>\n",
       "            <th>area_land</th>\n",
       "            <th>area_water</th>\n",
       "            <th>population</th>\n",
       "            <th>population_growth</th>\n",
       "            <th>birth_rate</th>\n",
       "            <th>death_rate</th>\n",
       "            <th>migration_rate</th>\n",
       "        </tr>\n",
       "    </thead>\n",
       "    <tbody>\n",
       "        <tr>\n",
       "            <td>250</td>\n",
       "            <td>ay</td>\n",
       "            <td>Antarctica</td>\n",
       "            <td>None</td>\n",
       "            <td>280000</td>\n",
       "            <td>None</td>\n",
       "            <td>0</td>\n",
       "            <td>None</td>\n",
       "            <td>None</td>\n",
       "            <td>None</td>\n",
       "            <td>None</td>\n",
       "        </tr>\n",
       "    </tbody>\n",
       "</table>"
      ],
      "text/plain": [
       "[(250, 'ay', 'Antarctica', None, 280000, None, 0, None, None, None, None)]"
      ]
     },
     "execution_count": 6,
     "metadata": {},
     "output_type": "execute_result"
    }
   ],
   "source": [
    "%%sql \n",
    "SELECT *\n",
    "FROM facts \n",
    "WHERE population == (SELECT MIN(population)\n",
    "                    FROM facts)"
   ]
  },
  {
   "cell_type": "markdown",
   "id": "af58c7fa",
   "metadata": {},
   "source": [
    "We can see that Antarctica is the country with a population and area of `0`. This makes sense as Antarctica has no indigenous inhabits which is explained in the [factbook]( https://www.cia.gov/the-world-factbook/countries/antarctica/) "
   ]
  },
  {
   "cell_type": "markdown",
   "id": "79a87374",
   "metadata": {},
   "source": [
    "### __Finding Countries with Populations of `7256490011`__"
   ]
  },
  {
   "cell_type": "code",
   "execution_count": 7,
   "id": "2a63be45",
   "metadata": {},
   "outputs": [
    {
     "name": "stdout",
     "output_type": "stream",
     "text": [
      " * sqlite:///factbook.db\n",
      "Done.\n"
     ]
    },
    {
     "data": {
      "text/html": [
       "<table>\n",
       "    <thead>\n",
       "        <tr>\n",
       "            <th>id</th>\n",
       "            <th>code</th>\n",
       "            <th>name</th>\n",
       "            <th>area</th>\n",
       "            <th>area_land</th>\n",
       "            <th>area_water</th>\n",
       "            <th>population</th>\n",
       "            <th>population_growth</th>\n",
       "            <th>birth_rate</th>\n",
       "            <th>death_rate</th>\n",
       "            <th>migration_rate</th>\n",
       "        </tr>\n",
       "    </thead>\n",
       "    <tbody>\n",
       "        <tr>\n",
       "            <td>261</td>\n",
       "            <td>xx</td>\n",
       "            <td>World</td>\n",
       "            <td>None</td>\n",
       "            <td>None</td>\n",
       "            <td>None</td>\n",
       "            <td>7256490011</td>\n",
       "            <td>1.08</td>\n",
       "            <td>18.6</td>\n",
       "            <td>7.8</td>\n",
       "            <td>None</td>\n",
       "        </tr>\n",
       "    </tbody>\n",
       "</table>"
      ],
      "text/plain": [
       "[(261, 'xx', 'World', None, None, None, 7256490011, 1.08, 18.6, 7.8, None)]"
      ]
     },
     "execution_count": 7,
     "metadata": {},
     "output_type": "execute_result"
    }
   ],
   "source": [
    "%%sql \n",
    "SELECT *\n",
    "FROM facts \n",
    "WHERE population == (SELECT MAX(population)\n",
    "                    FROM facts)"
   ]
  },
  {
   "cell_type": "markdown",
   "id": "11bd16d4",
   "metadata": {},
   "source": [
    "We can see that the database also contains a row containing values on the entire world. This makes sense as 7.2 billion we got before represents the entire human population. This also explain why our average population is over 62 million per country as that value appears to be too large. We can exclude the `World` row in our future statistics by add in name != ‘World’ to our WHERE clause. "
   ]
  },
  {
   "cell_type": "markdown",
   "id": "54f3da30",
   "metadata": {},
   "source": [
    "### __Finding other special rows__"
   ]
  },
  {
   "cell_type": "markdown",
   "id": "f5739a41",
   "metadata": {},
   "source": [
    "Now that we know that the data contains special columns like `World` that contains the entire world population, we need to see if there are any other columns like this that could affect our statistics. We can create a query that will order the rows by population. "
   ]
  },
  {
   "cell_type": "code",
   "execution_count": 8,
   "id": "671fcb8d",
   "metadata": {
    "scrolled": false
   },
   "outputs": [
    {
     "name": "stdout",
     "output_type": "stream",
     "text": [
      " * sqlite:///factbook.db\n",
      "Done.\n"
     ]
    },
    {
     "data": {
      "text/html": [
       "<table>\n",
       "    <thead>\n",
       "        <tr>\n",
       "            <th>name</th>\n",
       "            <th>population</th>\n",
       "            <th>population_growth</th>\n",
       "        </tr>\n",
       "    </thead>\n",
       "    <tbody>\n",
       "        <tr>\n",
       "            <td>World</td>\n",
       "            <td>7256490011</td>\n",
       "            <td>1.08</td>\n",
       "        </tr>\n",
       "        <tr>\n",
       "            <td>China</td>\n",
       "            <td>1367485388</td>\n",
       "            <td>0.45</td>\n",
       "        </tr>\n",
       "        <tr>\n",
       "            <td>India</td>\n",
       "            <td>1251695584</td>\n",
       "            <td>1.22</td>\n",
       "        </tr>\n",
       "        <tr>\n",
       "            <td>European Union</td>\n",
       "            <td>513949445</td>\n",
       "            <td>0.25</td>\n",
       "        </tr>\n",
       "        <tr>\n",
       "            <td>United States</td>\n",
       "            <td>321368864</td>\n",
       "            <td>0.78</td>\n",
       "        </tr>\n",
       "    </tbody>\n",
       "</table>"
      ],
      "text/plain": [
       "[('World', 7256490011, 1.08),\n",
       " ('China', 1367485388, 0.45),\n",
       " ('India', 1251695584, 1.22),\n",
       " ('European Union', 513949445, 0.25),\n",
       " ('United States', 321368864, 0.78)]"
      ]
     },
     "execution_count": 8,
     "metadata": {},
     "output_type": "execute_result"
    }
   ],
   "source": [
    "%%sql \n",
    "SELECT name, population, population_growth\n",
    "FROM facts\n",
    "ORDER BY population DESC\n",
    "Limit 5"
   ]
  },
  {
   "cell_type": "code",
   "execution_count": 22,
   "id": "930c5b09",
   "metadata": {},
   "outputs": [
    {
     "name": "stdout",
     "output_type": "stream",
     "text": [
      " * sqlite:///factbook.db\n",
      "Done.\n"
     ]
    },
    {
     "data": {
      "text/html": [
       "<table>\n",
       "    <thead>\n",
       "        <tr>\n",
       "            <th>name</th>\n",
       "            <th>population</th>\n",
       "            <th>population_growth</th>\n",
       "        </tr>\n",
       "    </thead>\n",
       "    <tbody>\n",
       "        <tr>\n",
       "            <td>Ashmore and Cartier Islands</td>\n",
       "            <td>None</td>\n",
       "            <td>None</td>\n",
       "        </tr>\n",
       "        <tr>\n",
       "            <td>Coral Sea Islands</td>\n",
       "            <td>None</td>\n",
       "            <td>None</td>\n",
       "        </tr>\n",
       "        <tr>\n",
       "            <td>Heard Island and McDonald Islands</td>\n",
       "            <td>None</td>\n",
       "            <td>None</td>\n",
       "        </tr>\n",
       "        <tr>\n",
       "            <td>Clipperton Island</td>\n",
       "            <td>None</td>\n",
       "            <td>None</td>\n",
       "        </tr>\n",
       "        <tr>\n",
       "            <td>French Southern and Antarctic Lands</td>\n",
       "            <td>None</td>\n",
       "            <td>None</td>\n",
       "        </tr>\n",
       "    </tbody>\n",
       "</table>"
      ],
      "text/plain": [
       "[('Ashmore and Cartier Islands', None, None),\n",
       " ('Coral Sea Islands', None, None),\n",
       " ('Heard Island and McDonald Islands', None, None),\n",
       " ('Clipperton Island', None, None),\n",
       " ('French Southern and Antarctic Lands', None, None)]"
      ]
     },
     "execution_count": 22,
     "metadata": {},
     "output_type": "execute_result"
    }
   ],
   "source": [
    "%%sql \n",
    "SELECT name, population, population_growth\n",
    "FROM facts\n",
    "ORDER BY population ASC\n",
    "LIMIT 5 "
   ]
  },
  {
   "cell_type": "markdown",
   "id": "f2013334",
   "metadata": {},
   "source": [
    "We can see in our output that on the top of our list we see the European Union which is a collective of 27 countries which is something to exclude as these countries are already accounted for. On the other end we can see islands such as the Wake Island and McDonald Island which are uninhabited, we also see entries for Oceans such as the Pacific and Atlantic. As these entries have their numeric vales set as `None` SQLite will exclude them automatically in any calculation.  "
   ]
  },
  {
   "cell_type": "markdown",
   "id": "b7c4f566",
   "metadata": {},
   "source": [
    "## __Cleaned Summarizing Statistics__"
   ]
  },
  {
   "cell_type": "code",
   "execution_count": 9,
   "id": "8b546f5b",
   "metadata": {
    "scrolled": true
   },
   "outputs": [
    {
     "name": "stdout",
     "output_type": "stream",
     "text": [
      " * sqlite:///factbook.db\n",
      "Done.\n"
     ]
    },
    {
     "data": {
      "text/html": [
       "<table>\n",
       "    <thead>\n",
       "        <tr>\n",
       "            <th>Smallest_Population</th>\n",
       "            <th>Largest_Population</th>\n",
       "            <th>Average_Population</th>\n",
       "            <th>Smallest_Area</th>\n",
       "            <th>Largest_Area</th>\n",
       "            <th>Average_Area</th>\n",
       "        </tr>\n",
       "    </thead>\n",
       "    <tbody>\n",
       "        <tr>\n",
       "            <td>0</td>\n",
       "            <td>1367485388</td>\n",
       "            <td>30235554.991666667</td>\n",
       "            <td>0</td>\n",
       "            <td>17098242</td>\n",
       "            <td>539893.1895161291</td>\n",
       "        </tr>\n",
       "    </tbody>\n",
       "</table>"
      ],
      "text/plain": [
       "[(0, 1367485388, 30235554.991666667, 0, 17098242, 539893.1895161291)]"
      ]
     },
     "execution_count": 9,
     "metadata": {},
     "output_type": "execute_result"
    }
   ],
   "source": [
    "%%sql \n",
    "SELECT MIN(population) AS Smallest_Population, \n",
    "MAX(population) AS Largest_Population,\n",
    "AVG(population) AS Average_Population,\n",
    "MIN(Area) AS Smallest_Area,\n",
    "MAX(Area) AS Largest_Area,\n",
    "AVG(Area) AS Average_Area\n",
    "FROM facts\n",
    "WHERE name NOT IN ('World', 'European Union')"
   ]
  },
  {
   "cell_type": "markdown",
   "id": "4f3d8be9",
   "metadata": {},
   "source": [
    "We can see now that the Largest_Population is now 1.3 billion which is much more realistic than 7.2. we can also see that the Average_Population is now 30 million compared to 62 million we saw before. "
   ]
  },
  {
   "cell_type": "markdown",
   "id": "1c0fd71c",
   "metadata": {},
   "source": [
    "## __Finding countries with Largest Population and Growrh_rate__"
   ]
  },
  {
   "cell_type": "markdown",
   "id": "9002c789",
   "metadata": {},
   "source": [
    "Now that we know that we have to exclude the World-wide population we can see what countries have the hugest population and population_growth. "
   ]
  },
  {
   "cell_type": "code",
   "execution_count": 10,
   "id": "ae4970d0",
   "metadata": {
    "scrolled": true
   },
   "outputs": [
    {
     "name": "stdout",
     "output_type": "stream",
     "text": [
      " * sqlite:///factbook.db\n",
      "Done.\n"
     ]
    },
    {
     "data": {
      "text/html": [
       "<table>\n",
       "    <thead>\n",
       "        <tr>\n",
       "            <th>name</th>\n",
       "            <th>Population</th>\n",
       "        </tr>\n",
       "    </thead>\n",
       "    <tbody>\n",
       "        <tr>\n",
       "            <td>China</td>\n",
       "            <td>1367485388</td>\n",
       "        </tr>\n",
       "    </tbody>\n",
       "</table>"
      ],
      "text/plain": [
       "[('China', 1367485388)]"
      ]
     },
     "execution_count": 10,
     "metadata": {},
     "output_type": "execute_result"
    }
   ],
   "source": [
    "%%sql \n",
    "\n",
    "SELECT name, MAX(population) AS 'Population'\n",
    "FROM facts\n",
    "WHERE name NOT IN ('World', 'European Union')"
   ]
  },
  {
   "cell_type": "code",
   "execution_count": 11,
   "id": "91a9ec63",
   "metadata": {
    "scrolled": true
   },
   "outputs": [
    {
     "name": "stdout",
     "output_type": "stream",
     "text": [
      " * sqlite:///factbook.db\n",
      "Done.\n"
     ]
    },
    {
     "data": {
      "text/html": [
       "<table>\n",
       "    <thead>\n",
       "        <tr>\n",
       "            <th>name</th>\n",
       "            <th>population</th>\n",
       "            <th>Growth Rate</th>\n",
       "        </tr>\n",
       "    </thead>\n",
       "    <tbody>\n",
       "        <tr>\n",
       "            <td>South Sudan</td>\n",
       "            <td>12042910</td>\n",
       "            <td>4.02</td>\n",
       "        </tr>\n",
       "    </tbody>\n",
       "</table>"
      ],
      "text/plain": [
       "[('South Sudan', 12042910, 4.02)]"
      ]
     },
     "execution_count": 11,
     "metadata": {},
     "output_type": "execute_result"
    }
   ],
   "source": [
    "%%sql \n",
    "\n",
    "SELECT name, population, MAX(population_growth) AS 'Growth Rate'\n",
    "FROM facts\n",
    "WHERE name NOT IN ('World', 'European Union')"
   ]
  },
  {
   "cell_type": "markdown",
   "id": "95f39414",
   "metadata": {},
   "source": [
    "We can see that China has the largest population with 1.3 billion which is what we saw in our summarizing statistics earlier. The country with the highest population growth rate is the South Sudan. "
   ]
  },
  {
   "cell_type": "markdown",
   "id": "c88ec56c",
   "metadata": {},
   "source": [
    "## __What Countries Will Have the Biggest Population Increase__"
   ]
  },
  {
   "cell_type": "markdown",
   "id": "3df6ee1f",
   "metadata": {},
   "source": [
    "One thing we can predict with our data is seeing which country will have the biggest increase in population in the next year using the population column and the population_growth column. To see how mush the population would increase within a year we can multiply the current population with the percentage it would increase."
   ]
  },
  {
   "cell_type": "code",
   "execution_count": 12,
   "id": "57b98d6d",
   "metadata": {
    "scrolled": true
   },
   "outputs": [
    {
     "name": "stdout",
     "output_type": "stream",
     "text": [
      " * sqlite:///factbook.db\n",
      "Done.\n"
     ]
    },
    {
     "data": {
      "text/html": [
       "<table>\n",
       "    <thead>\n",
       "        <tr>\n",
       "            <th>name</th>\n",
       "            <th>Pop_increase</th>\n",
       "        </tr>\n",
       "    </thead>\n",
       "    <tbody>\n",
       "        <tr>\n",
       "            <td>India</td>\n",
       "            <td>15270686.0</td>\n",
       "        </tr>\n",
       "        <tr>\n",
       "            <td>China</td>\n",
       "            <td>6153684.0</td>\n",
       "        </tr>\n",
       "        <tr>\n",
       "            <td>Nigeria</td>\n",
       "            <td>4448270.0</td>\n",
       "        </tr>\n",
       "        <tr>\n",
       "            <td>Pakistan</td>\n",
       "            <td>2906653.0</td>\n",
       "        </tr>\n",
       "        <tr>\n",
       "            <td>Ethiopia</td>\n",
       "            <td>2874562.0</td>\n",
       "        </tr>\n",
       "        <tr>\n",
       "            <td>Bangladesh</td>\n",
       "            <td>2703324.0</td>\n",
       "        </tr>\n",
       "        <tr>\n",
       "            <td>United States</td>\n",
       "            <td>2506677.0</td>\n",
       "        </tr>\n",
       "        <tr>\n",
       "            <td>Indonesia</td>\n",
       "            <td>2355142.0</td>\n",
       "        </tr>\n",
       "        <tr>\n",
       "            <td>Congo, Democratic Republic of the</td>\n",
       "            <td>1944691.0</td>\n",
       "        </tr>\n",
       "        <tr>\n",
       "            <td>Philippines</td>\n",
       "            <td>1626074.0</td>\n",
       "        </tr>\n",
       "    </tbody>\n",
       "</table>"
      ],
      "text/plain": [
       "[('India', 15270686.0),\n",
       " ('China', 6153684.0),\n",
       " ('Nigeria', 4448270.0),\n",
       " ('Pakistan', 2906653.0),\n",
       " ('Ethiopia', 2874562.0),\n",
       " ('Bangladesh', 2703324.0),\n",
       " ('United States', 2506677.0),\n",
       " ('Indonesia', 2355142.0),\n",
       " ('Congo, Democratic Republic of the', 1944691.0),\n",
       " ('Philippines', 1626074.0)]"
      ]
     },
     "execution_count": 12,
     "metadata": {},
     "output_type": "execute_result"
    }
   ],
   "source": [
    "%%sql\n",
    "\n",
    "SELECT name, \n",
    "ROUND((population * (population_growth/100))) AS Pop_increase\n",
    "FROM facts\n",
    "WHERE name NOT IN ('World', 'European Union')\n",
    "ORDER BY Pop_increase DESC\n",
    "LIMIT 10"
   ]
  },
  {
   "cell_type": "markdown",
   "id": "b325c2f8",
   "metadata": {},
   "source": [
    "We can see that India will have the highest population increase with 15 million new citizens. We also see that China is in second place in population increase even though it has the highest population. We also don’t see South Sudan in the top ten even though it had the highest population_growth, this is due to South Sudan having a smaller population so they have a smaller population increase. It is also interesting to note that within the top ten countries 6 are in Asia, 3 are in Africa and 1 is in North America. "
   ]
  },
  {
   "cell_type": "markdown",
   "id": "bcecdef7",
   "metadata": {},
   "source": [
    "## __What Countries have a Larger Death Rate than Birth Rate__"
   ]
  },
  {
   "cell_type": "markdown",
   "id": "5990cf35",
   "metadata": {},
   "source": [
    "Another aspect of the database we can look at is comparing countries birth_rate to their own death_rate. We can accomplish this by adding the > operator on the death_rate and birth_rate column on the WHERE clause."
   ]
  },
  {
   "cell_type": "code",
   "execution_count": 13,
   "id": "70388478",
   "metadata": {},
   "outputs": [
    {
     "name": "stdout",
     "output_type": "stream",
     "text": [
      " * sqlite:///factbook.db\n",
      "Done.\n"
     ]
    },
    {
     "data": {
      "text/html": [
       "<table>\n",
       "    <thead>\n",
       "        <tr>\n",
       "            <th>name</th>\n",
       "            <th>birth_rate</th>\n",
       "            <th>death_rate</th>\n",
       "        </tr>\n",
       "    </thead>\n",
       "    <tbody>\n",
       "        <tr>\n",
       "            <td>Austria</td>\n",
       "            <td>9.41</td>\n",
       "            <td>9.42</td>\n",
       "        </tr>\n",
       "        <tr>\n",
       "            <td>Belarus</td>\n",
       "            <td>10.7</td>\n",
       "            <td>13.36</td>\n",
       "        </tr>\n",
       "        <tr>\n",
       "            <td>Bosnia and Herzegovina</td>\n",
       "            <td>8.87</td>\n",
       "            <td>9.75</td>\n",
       "        </tr>\n",
       "        <tr>\n",
       "            <td>Bulgaria</td>\n",
       "            <td>8.92</td>\n",
       "            <td>14.44</td>\n",
       "        </tr>\n",
       "        <tr>\n",
       "            <td>Croatia</td>\n",
       "            <td>9.45</td>\n",
       "            <td>12.18</td>\n",
       "        </tr>\n",
       "        <tr>\n",
       "            <td>Czech Republic</td>\n",
       "            <td>9.63</td>\n",
       "            <td>10.34</td>\n",
       "        </tr>\n",
       "        <tr>\n",
       "            <td>Estonia</td>\n",
       "            <td>10.51</td>\n",
       "            <td>12.4</td>\n",
       "        </tr>\n",
       "        <tr>\n",
       "            <td>Germany</td>\n",
       "            <td>8.47</td>\n",
       "            <td>11.42</td>\n",
       "        </tr>\n",
       "        <tr>\n",
       "            <td>Greece</td>\n",
       "            <td>8.66</td>\n",
       "            <td>11.09</td>\n",
       "        </tr>\n",
       "        <tr>\n",
       "            <td>Hungary</td>\n",
       "            <td>9.16</td>\n",
       "            <td>12.73</td>\n",
       "        </tr>\n",
       "        <tr>\n",
       "            <td>Italy</td>\n",
       "            <td>8.74</td>\n",
       "            <td>10.19</td>\n",
       "        </tr>\n",
       "        <tr>\n",
       "            <td>Japan</td>\n",
       "            <td>7.93</td>\n",
       "            <td>9.51</td>\n",
       "        </tr>\n",
       "        <tr>\n",
       "            <td>Latvia</td>\n",
       "            <td>10.0</td>\n",
       "            <td>14.31</td>\n",
       "        </tr>\n",
       "        <tr>\n",
       "            <td>Lithuania</td>\n",
       "            <td>10.1</td>\n",
       "            <td>14.27</td>\n",
       "        </tr>\n",
       "        <tr>\n",
       "            <td>Moldova</td>\n",
       "            <td>12.0</td>\n",
       "            <td>12.59</td>\n",
       "        </tr>\n",
       "        <tr>\n",
       "            <td>Monaco</td>\n",
       "            <td>6.65</td>\n",
       "            <td>9.24</td>\n",
       "        </tr>\n",
       "        <tr>\n",
       "            <td>Poland</td>\n",
       "            <td>9.74</td>\n",
       "            <td>10.19</td>\n",
       "        </tr>\n",
       "        <tr>\n",
       "            <td>Portugal</td>\n",
       "            <td>9.27</td>\n",
       "            <td>11.02</td>\n",
       "        </tr>\n",
       "        <tr>\n",
       "            <td>Romania</td>\n",
       "            <td>9.14</td>\n",
       "            <td>11.9</td>\n",
       "        </tr>\n",
       "        <tr>\n",
       "            <td>Russia</td>\n",
       "            <td>11.6</td>\n",
       "            <td>13.69</td>\n",
       "        </tr>\n",
       "        <tr>\n",
       "            <td>Serbia</td>\n",
       "            <td>9.08</td>\n",
       "            <td>13.66</td>\n",
       "        </tr>\n",
       "        <tr>\n",
       "            <td>Slovenia</td>\n",
       "            <td>8.42</td>\n",
       "            <td>11.37</td>\n",
       "        </tr>\n",
       "        <tr>\n",
       "            <td>Ukraine</td>\n",
       "            <td>10.72</td>\n",
       "            <td>14.46</td>\n",
       "        </tr>\n",
       "        <tr>\n",
       "            <td>Saint Pierre and Miquelon</td>\n",
       "            <td>7.42</td>\n",
       "            <td>9.72</td>\n",
       "        </tr>\n",
       "    </tbody>\n",
       "</table>"
      ],
      "text/plain": [
       "[('Austria', 9.41, 9.42),\n",
       " ('Belarus', 10.7, 13.36),\n",
       " ('Bosnia and Herzegovina', 8.87, 9.75),\n",
       " ('Bulgaria', 8.92, 14.44),\n",
       " ('Croatia', 9.45, 12.18),\n",
       " ('Czech Republic', 9.63, 10.34),\n",
       " ('Estonia', 10.51, 12.4),\n",
       " ('Germany', 8.47, 11.42),\n",
       " ('Greece', 8.66, 11.09),\n",
       " ('Hungary', 9.16, 12.73),\n",
       " ('Italy', 8.74, 10.19),\n",
       " ('Japan', 7.93, 9.51),\n",
       " ('Latvia', 10.0, 14.31),\n",
       " ('Lithuania', 10.1, 14.27),\n",
       " ('Moldova', 12.0, 12.59),\n",
       " ('Monaco', 6.65, 9.24),\n",
       " ('Poland', 9.74, 10.19),\n",
       " ('Portugal', 9.27, 11.02),\n",
       " ('Romania', 9.14, 11.9),\n",
       " ('Russia', 11.6, 13.69),\n",
       " ('Serbia', 9.08, 13.66),\n",
       " ('Slovenia', 8.42, 11.37),\n",
       " ('Ukraine', 10.72, 14.46),\n",
       " ('Saint Pierre and Miquelon', 7.42, 9.72)]"
      ]
     },
     "execution_count": 13,
     "metadata": {},
     "output_type": "execute_result"
    }
   ],
   "source": [
    "%%sql \n",
    "SELECT name, \n",
    "birth_rate,\n",
    "death_rate\n",
    "FROM facts\n",
    "WHERE death_rate > birth_rate"
   ]
  },
  {
   "cell_type": "markdown",
   "id": "49833fcc",
   "metadata": {},
   "source": [
    "We can see in our output above that there are 24 countries where the death_rate outpaces the birth_rate. It is interesting to note that 23 of the countries with a higher death_rate than birth_rate are in Europe. "
   ]
  },
  {
   "cell_type": "markdown",
   "id": "85c7de10",
   "metadata": {},
   "source": [
    "## __Finding Countries with Above Average Population and Area__"
   ]
  },
  {
   "cell_type": "markdown",
   "id": "8ed6d1b5",
   "metadata": {},
   "source": [
    "Now that we have our cleaned values for the average population and area, we can find countries which have higher than average population and area.\n",
    "\n",
    "we can do this by creating a query where we select all columns and adding 2 subqueries to our where clause to filter above the average values. "
   ]
  },
  {
   "cell_type": "code",
   "execution_count": 14,
   "id": "75f165d9",
   "metadata": {},
   "outputs": [
    {
     "name": "stdout",
     "output_type": "stream",
     "text": [
      " * sqlite:///factbook.db\n",
      "Done.\n"
     ]
    },
    {
     "data": {
      "text/html": [
       "<table>\n",
       "    <thead>\n",
       "        <tr>\n",
       "            <th>id</th>\n",
       "            <th>code</th>\n",
       "            <th>name</th>\n",
       "            <th>area</th>\n",
       "            <th>area_land</th>\n",
       "            <th>area_water</th>\n",
       "            <th>population</th>\n",
       "            <th>population_growth</th>\n",
       "            <th>birth_rate</th>\n",
       "            <th>death_rate</th>\n",
       "            <th>migration_rate</th>\n",
       "        </tr>\n",
       "    </thead>\n",
       "    <tbody>\n",
       "        <tr>\n",
       "            <td>1</td>\n",
       "            <td>af</td>\n",
       "            <td>Afghanistan</td>\n",
       "            <td>652230</td>\n",
       "            <td>652230</td>\n",
       "            <td>0</td>\n",
       "            <td>32564342</td>\n",
       "            <td>2.32</td>\n",
       "            <td>38.57</td>\n",
       "            <td>13.89</td>\n",
       "            <td>1.51</td>\n",
       "        </tr>\n",
       "        <tr>\n",
       "            <td>3</td>\n",
       "            <td>ag</td>\n",
       "            <td>Algeria</td>\n",
       "            <td>2381741</td>\n",
       "            <td>2381741</td>\n",
       "            <td>0</td>\n",
       "            <td>39542166</td>\n",
       "            <td>1.84</td>\n",
       "            <td>23.67</td>\n",
       "            <td>4.31</td>\n",
       "            <td>0.92</td>\n",
       "        </tr>\n",
       "        <tr>\n",
       "            <td>7</td>\n",
       "            <td>ar</td>\n",
       "            <td>Argentina</td>\n",
       "            <td>2780400</td>\n",
       "            <td>2736690</td>\n",
       "            <td>43710</td>\n",
       "            <td>43431886</td>\n",
       "            <td>0.93</td>\n",
       "            <td>16.64</td>\n",
       "            <td>7.33</td>\n",
       "            <td>0.0</td>\n",
       "        </tr>\n",
       "        <tr>\n",
       "            <td>24</td>\n",
       "            <td>br</td>\n",
       "            <td>Brazil</td>\n",
       "            <td>8515770</td>\n",
       "            <td>8358140</td>\n",
       "            <td>157630</td>\n",
       "            <td>204259812</td>\n",
       "            <td>0.77</td>\n",
       "            <td>14.46</td>\n",
       "            <td>6.58</td>\n",
       "            <td>0.14</td>\n",
       "        </tr>\n",
       "        <tr>\n",
       "            <td>28</td>\n",
       "            <td>bm</td>\n",
       "            <td>Burma</td>\n",
       "            <td>676578</td>\n",
       "            <td>653508</td>\n",
       "            <td>23070</td>\n",
       "            <td>56320206</td>\n",
       "            <td>1.01</td>\n",
       "            <td>18.39</td>\n",
       "            <td>7.96</td>\n",
       "            <td>0.28</td>\n",
       "        </tr>\n",
       "        <tr>\n",
       "            <td>32</td>\n",
       "            <td>ca</td>\n",
       "            <td>Canada</td>\n",
       "            <td>9984670</td>\n",
       "            <td>9093507</td>\n",
       "            <td>891163</td>\n",
       "            <td>35099836</td>\n",
       "            <td>0.75</td>\n",
       "            <td>10.28</td>\n",
       "            <td>8.42</td>\n",
       "            <td>5.66</td>\n",
       "        </tr>\n",
       "        <tr>\n",
       "            <td>37</td>\n",
       "            <td>ch</td>\n",
       "            <td>China</td>\n",
       "            <td>9596960</td>\n",
       "            <td>9326410</td>\n",
       "            <td>270550</td>\n",
       "            <td>1367485388</td>\n",
       "            <td>0.45</td>\n",
       "            <td>12.49</td>\n",
       "            <td>7.53</td>\n",
       "            <td>0.44</td>\n",
       "        </tr>\n",
       "        <tr>\n",
       "            <td>38</td>\n",
       "            <td>co</td>\n",
       "            <td>Colombia</td>\n",
       "            <td>1138910</td>\n",
       "            <td>1038700</td>\n",
       "            <td>100210</td>\n",
       "            <td>46736728</td>\n",
       "            <td>1.04</td>\n",
       "            <td>16.47</td>\n",
       "            <td>5.4</td>\n",
       "            <td>0.64</td>\n",
       "        </tr>\n",
       "        <tr>\n",
       "            <td>40</td>\n",
       "            <td>cg</td>\n",
       "            <td>Congo, Democratic Republic of the</td>\n",
       "            <td>2344858</td>\n",
       "            <td>2267048</td>\n",
       "            <td>77810</td>\n",
       "            <td>79375136</td>\n",
       "            <td>2.45</td>\n",
       "            <td>34.88</td>\n",
       "            <td>10.07</td>\n",
       "            <td>0.27</td>\n",
       "        </tr>\n",
       "        <tr>\n",
       "            <td>53</td>\n",
       "            <td>eg</td>\n",
       "            <td>Egypt</td>\n",
       "            <td>1001450</td>\n",
       "            <td>995450</td>\n",
       "            <td>6000</td>\n",
       "            <td>88487396</td>\n",
       "            <td>1.79</td>\n",
       "            <td>22.9</td>\n",
       "            <td>4.77</td>\n",
       "            <td>0.19</td>\n",
       "        </tr>\n",
       "        <tr>\n",
       "            <td>58</td>\n",
       "            <td>et</td>\n",
       "            <td>Ethiopia</td>\n",
       "            <td>1104300</td>\n",
       "            <td>None</td>\n",
       "            <td>104300</td>\n",
       "            <td>99465819</td>\n",
       "            <td>2.89</td>\n",
       "            <td>37.27</td>\n",
       "            <td>8.19</td>\n",
       "            <td>0.22</td>\n",
       "        </tr>\n",
       "        <tr>\n",
       "            <td>61</td>\n",
       "            <td>fr</td>\n",
       "            <td>France</td>\n",
       "            <td>643801</td>\n",
       "            <td>640427</td>\n",
       "            <td>3374</td>\n",
       "            <td>66553766</td>\n",
       "            <td>0.43</td>\n",
       "            <td>12.38</td>\n",
       "            <td>9.16</td>\n",
       "            <td>1.09</td>\n",
       "        </tr>\n",
       "        <tr>\n",
       "            <td>77</td>\n",
       "            <td>in</td>\n",
       "            <td>India</td>\n",
       "            <td>3287263</td>\n",
       "            <td>2973193</td>\n",
       "            <td>314070</td>\n",
       "            <td>1251695584</td>\n",
       "            <td>1.22</td>\n",
       "            <td>19.55</td>\n",
       "            <td>7.32</td>\n",
       "            <td>0.04</td>\n",
       "        </tr>\n",
       "        <tr>\n",
       "            <td>78</td>\n",
       "            <td>id</td>\n",
       "            <td>Indonesia</td>\n",
       "            <td>1904569</td>\n",
       "            <td>1811569</td>\n",
       "            <td>93000</td>\n",
       "            <td>255993674</td>\n",
       "            <td>0.92</td>\n",
       "            <td>16.72</td>\n",
       "            <td>6.37</td>\n",
       "            <td>1.16</td>\n",
       "        </tr>\n",
       "        <tr>\n",
       "            <td>79</td>\n",
       "            <td>ir</td>\n",
       "            <td>Iran</td>\n",
       "            <td>1648195</td>\n",
       "            <td>1531595</td>\n",
       "            <td>116600</td>\n",
       "            <td>81824270</td>\n",
       "            <td>1.2</td>\n",
       "            <td>17.99</td>\n",
       "            <td>5.94</td>\n",
       "            <td>0.07</td>\n",
       "        </tr>\n",
       "        <tr>\n",
       "            <td>88</td>\n",
       "            <td>ke</td>\n",
       "            <td>Kenya</td>\n",
       "            <td>580367</td>\n",
       "            <td>569140</td>\n",
       "            <td>11227</td>\n",
       "            <td>45925301</td>\n",
       "            <td>1.93</td>\n",
       "            <td>26.4</td>\n",
       "            <td>6.89</td>\n",
       "            <td>0.22</td>\n",
       "        </tr>\n",
       "        <tr>\n",
       "            <td>114</td>\n",
       "            <td>mx</td>\n",
       "            <td>Mexico</td>\n",
       "            <td>1964375</td>\n",
       "            <td>1943945</td>\n",
       "            <td>20430</td>\n",
       "            <td>121736809</td>\n",
       "            <td>1.18</td>\n",
       "            <td>18.78</td>\n",
       "            <td>5.26</td>\n",
       "            <td>1.68</td>\n",
       "        </tr>\n",
       "        <tr>\n",
       "            <td>129</td>\n",
       "            <td>ni</td>\n",
       "            <td>Nigeria</td>\n",
       "            <td>923768</td>\n",
       "            <td>910768</td>\n",
       "            <td>13000</td>\n",
       "            <td>181562056</td>\n",
       "            <td>2.45</td>\n",
       "            <td>37.64</td>\n",
       "            <td>12.9</td>\n",
       "            <td>0.22</td>\n",
       "        </tr>\n",
       "        <tr>\n",
       "            <td>132</td>\n",
       "            <td>pk</td>\n",
       "            <td>Pakistan</td>\n",
       "            <td>796095</td>\n",
       "            <td>770875</td>\n",
       "            <td>25220</td>\n",
       "            <td>199085847</td>\n",
       "            <td>1.46</td>\n",
       "            <td>22.58</td>\n",
       "            <td>6.49</td>\n",
       "            <td>1.54</td>\n",
       "        </tr>\n",
       "        <tr>\n",
       "            <td>137</td>\n",
       "            <td>pe</td>\n",
       "            <td>Peru</td>\n",
       "            <td>1285216</td>\n",
       "            <td>1279996</td>\n",
       "            <td>5220</td>\n",
       "            <td>30444999</td>\n",
       "            <td>0.97</td>\n",
       "            <td>18.28</td>\n",
       "            <td>6.01</td>\n",
       "            <td>2.53</td>\n",
       "        </tr>\n",
       "        <tr>\n",
       "            <td>143</td>\n",
       "            <td>rs</td>\n",
       "            <td>Russia</td>\n",
       "            <td>17098242</td>\n",
       "            <td>16377742</td>\n",
       "            <td>720500</td>\n",
       "            <td>142423773</td>\n",
       "            <td>0.04</td>\n",
       "            <td>11.6</td>\n",
       "            <td>13.69</td>\n",
       "            <td>1.69</td>\n",
       "        </tr>\n",
       "        <tr>\n",
       "            <td>161</td>\n",
       "            <td>sf</td>\n",
       "            <td>South Africa</td>\n",
       "            <td>1219090</td>\n",
       "            <td>1214470</td>\n",
       "            <td>4620</td>\n",
       "            <td>53675563</td>\n",
       "            <td>1.33</td>\n",
       "            <td>20.75</td>\n",
       "            <td>9.91</td>\n",
       "            <td>2.42</td>\n",
       "        </tr>\n",
       "        <tr>\n",
       "            <td>165</td>\n",
       "            <td>su</td>\n",
       "            <td>Sudan</td>\n",
       "            <td>1861484</td>\n",
       "            <td>None</td>\n",
       "            <td>None</td>\n",
       "            <td>36108853</td>\n",
       "            <td>1.72</td>\n",
       "            <td>29.19</td>\n",
       "            <td>7.66</td>\n",
       "            <td>4.29</td>\n",
       "        </tr>\n",
       "        <tr>\n",
       "            <td>172</td>\n",
       "            <td>tz</td>\n",
       "            <td>Tanzania</td>\n",
       "            <td>947300</td>\n",
       "            <td>885800</td>\n",
       "            <td>61500</td>\n",
       "            <td>51045882</td>\n",
       "            <td>2.79</td>\n",
       "            <td>36.39</td>\n",
       "            <td>8.0</td>\n",
       "            <td>0.54</td>\n",
       "        </tr>\n",
       "        <tr>\n",
       "            <td>179</td>\n",
       "            <td>tu</td>\n",
       "            <td>Turkey</td>\n",
       "            <td>783562</td>\n",
       "            <td>769632</td>\n",
       "            <td>13930</td>\n",
       "            <td>79414269</td>\n",
       "            <td>1.26</td>\n",
       "            <td>16.33</td>\n",
       "            <td>5.88</td>\n",
       "            <td>2.16</td>\n",
       "        </tr>\n",
       "        <tr>\n",
       "            <td>183</td>\n",
       "            <td>up</td>\n",
       "            <td>Ukraine</td>\n",
       "            <td>603550</td>\n",
       "            <td>579330</td>\n",
       "            <td>24220</td>\n",
       "            <td>44429471</td>\n",
       "            <td>0.6</td>\n",
       "            <td>10.72</td>\n",
       "            <td>14.46</td>\n",
       "            <td>2.25</td>\n",
       "        </tr>\n",
       "        <tr>\n",
       "            <td>186</td>\n",
       "            <td>us</td>\n",
       "            <td>United States</td>\n",
       "            <td>9826675</td>\n",
       "            <td>9161966</td>\n",
       "            <td>664709</td>\n",
       "            <td>321368864</td>\n",
       "            <td>0.78</td>\n",
       "            <td>12.49</td>\n",
       "            <td>8.15</td>\n",
       "            <td>3.86</td>\n",
       "        </tr>\n",
       "    </tbody>\n",
       "</table>"
      ],
      "text/plain": [
       "[(1, 'af', 'Afghanistan', 652230, 652230, 0, 32564342, 2.32, 38.57, 13.89, 1.51),\n",
       " (3, 'ag', 'Algeria', 2381741, 2381741, 0, 39542166, 1.84, 23.67, 4.31, 0.92),\n",
       " (7, 'ar', 'Argentina', 2780400, 2736690, 43710, 43431886, 0.93, 16.64, 7.33, 0.0),\n",
       " (24, 'br', 'Brazil', 8515770, 8358140, 157630, 204259812, 0.77, 14.46, 6.58, 0.14),\n",
       " (28, 'bm', 'Burma', 676578, 653508, 23070, 56320206, 1.01, 18.39, 7.96, 0.28),\n",
       " (32, 'ca', 'Canada', 9984670, 9093507, 891163, 35099836, 0.75, 10.28, 8.42, 5.66),\n",
       " (37, 'ch', 'China', 9596960, 9326410, 270550, 1367485388, 0.45, 12.49, 7.53, 0.44),\n",
       " (38, 'co', 'Colombia', 1138910, 1038700, 100210, 46736728, 1.04, 16.47, 5.4, 0.64),\n",
       " (40, 'cg', 'Congo, Democratic Republic of the', 2344858, 2267048, 77810, 79375136, 2.45, 34.88, 10.07, 0.27),\n",
       " (53, 'eg', 'Egypt', 1001450, 995450, 6000, 88487396, 1.79, 22.9, 4.77, 0.19),\n",
       " (58, 'et', 'Ethiopia', 1104300, None, 104300, 99465819, 2.89, 37.27, 8.19, 0.22),\n",
       " (61, 'fr', 'France', 643801, 640427, 3374, 66553766, 0.43, 12.38, 9.16, 1.09),\n",
       " (77, 'in', 'India', 3287263, 2973193, 314070, 1251695584, 1.22, 19.55, 7.32, 0.04),\n",
       " (78, 'id', 'Indonesia', 1904569, 1811569, 93000, 255993674, 0.92, 16.72, 6.37, 1.16),\n",
       " (79, 'ir', 'Iran', 1648195, 1531595, 116600, 81824270, 1.2, 17.99, 5.94, 0.07),\n",
       " (88, 'ke', 'Kenya', 580367, 569140, 11227, 45925301, 1.93, 26.4, 6.89, 0.22),\n",
       " (114, 'mx', 'Mexico', 1964375, 1943945, 20430, 121736809, 1.18, 18.78, 5.26, 1.68),\n",
       " (129, 'ni', 'Nigeria', 923768, 910768, 13000, 181562056, 2.45, 37.64, 12.9, 0.22),\n",
       " (132, 'pk', 'Pakistan', 796095, 770875, 25220, 199085847, 1.46, 22.58, 6.49, 1.54),\n",
       " (137, 'pe', 'Peru', 1285216, 1279996, 5220, 30444999, 0.97, 18.28, 6.01, 2.53),\n",
       " (143, 'rs', 'Russia', 17098242, 16377742, 720500, 142423773, 0.04, 11.6, 13.69, 1.69),\n",
       " (161, 'sf', 'South Africa', 1219090, 1214470, 4620, 53675563, 1.33, 20.75, 9.91, 2.42),\n",
       " (165, 'su', 'Sudan', 1861484, None, None, 36108853, 1.72, 29.19, 7.66, 4.29),\n",
       " (172, 'tz', 'Tanzania', 947300, 885800, 61500, 51045882, 2.79, 36.39, 8.0, 0.54),\n",
       " (179, 'tu', 'Turkey', 783562, 769632, 13930, 79414269, 1.26, 16.33, 5.88, 2.16),\n",
       " (183, 'up', 'Ukraine', 603550, 579330, 24220, 44429471, 0.6, 10.72, 14.46, 2.25),\n",
       " (186, 'us', 'United States', 9826675, 9161966, 664709, 321368864, 0.78, 12.49, 8.15, 3.86)]"
      ]
     },
     "execution_count": 14,
     "metadata": {},
     "output_type": "execute_result"
    }
   ],
   "source": [
    "%%sql \n",
    "SELECT *\n",
    "FROM facts\n",
    "WHERE population > (SELECT AVG(population) \n",
    "                    FROM facts\n",
    "                    WHERE name NOT IN ('World', 'European Union'))\n",
    "                AND area > (SELECT AVG(area)\n",
    "                            FROM facts)\n",
    "                AND name NOT IN ('World', 'European Union')"
   ]
  },
  {
   "cell_type": "markdown",
   "id": "1e32ff90",
   "metadata": {},
   "source": [
    "We can see that our query has returned 27 countries all of which have a population and area greater than the global average. "
   ]
  },
  {
   "cell_type": "markdown",
   "id": "67241069",
   "metadata": {},
   "source": [
    "## __What Countries have More Water Than Land__"
   ]
  },
  {
   "cell_type": "markdown",
   "id": "ed32fdda",
   "metadata": {},
   "source": [
    "As the database contains both countries land and water area in the columns area_land and area_water, we can look at what countries have more water than land mass. We can determine this by dividing the area_water by area_land, if the result is above 1 then there is more water than land. When we do this we need to use the CAST() function to convert both of the columns to Floats, otherwise our results will be rounded to the nearest integer making it impossible to compare the ratio of water to land."
   ]
  },
  {
   "cell_type": "code",
   "execution_count": 15,
   "id": "399b5ca9",
   "metadata": {
    "scrolled": true
   },
   "outputs": [
    {
     "name": "stdout",
     "output_type": "stream",
     "text": [
      " * sqlite:///factbook.db\n",
      "Done.\n"
     ]
    },
    {
     "data": {
      "text/html": [
       "<table>\n",
       "    <thead>\n",
       "        <tr>\n",
       "            <th>name</th>\n",
       "            <th>area_water</th>\n",
       "            <th>area_land</th>\n",
       "            <th>Water_Land_Ratio</th>\n",
       "        </tr>\n",
       "    </thead>\n",
       "    <tbody>\n",
       "        <tr>\n",
       "            <td>British Indian Ocean Territory</td>\n",
       "            <td>54340</td>\n",
       "            <td>60</td>\n",
       "            <td>905.67</td>\n",
       "        </tr>\n",
       "        <tr>\n",
       "            <td>Virgin Islands</td>\n",
       "            <td>1564</td>\n",
       "            <td>346</td>\n",
       "            <td>4.52</td>\n",
       "        </tr>\n",
       "        <tr>\n",
       "            <td>Puerto Rico</td>\n",
       "            <td>4921</td>\n",
       "            <td>8870</td>\n",
       "            <td>0.55</td>\n",
       "        </tr>\n",
       "        <tr>\n",
       "            <td>Bahamas, The</td>\n",
       "            <td>3870</td>\n",
       "            <td>10010</td>\n",
       "            <td>0.39</td>\n",
       "        </tr>\n",
       "        <tr>\n",
       "            <td>Guinea-Bissau</td>\n",
       "            <td>8005</td>\n",
       "            <td>28120</td>\n",
       "            <td>0.28</td>\n",
       "        </tr>\n",
       "        <tr>\n",
       "            <td>Malawi</td>\n",
       "            <td>24404</td>\n",
       "            <td>94080</td>\n",
       "            <td>0.26</td>\n",
       "        </tr>\n",
       "        <tr>\n",
       "            <td>Netherlands</td>\n",
       "            <td>7650</td>\n",
       "            <td>33893</td>\n",
       "            <td>0.23</td>\n",
       "        </tr>\n",
       "        <tr>\n",
       "            <td>Uganda</td>\n",
       "            <td>43938</td>\n",
       "            <td>197100</td>\n",
       "            <td>0.22</td>\n",
       "        </tr>\n",
       "        <tr>\n",
       "            <td>Eritrea</td>\n",
       "            <td>16600</td>\n",
       "            <td>101000</td>\n",
       "            <td>0.16</td>\n",
       "        </tr>\n",
       "        <tr>\n",
       "            <td>Liberia</td>\n",
       "            <td>15049</td>\n",
       "            <td>96320</td>\n",
       "            <td>0.16</td>\n",
       "        </tr>\n",
       "    </tbody>\n",
       "</table>"
      ],
      "text/plain": [
       "[('British Indian Ocean Territory', 54340, 60, 905.67),\n",
       " ('Virgin Islands', 1564, 346, 4.52),\n",
       " ('Puerto Rico', 4921, 8870, 0.55),\n",
       " ('Bahamas, The', 3870, 10010, 0.39),\n",
       " ('Guinea-Bissau', 8005, 28120, 0.28),\n",
       " ('Malawi', 24404, 94080, 0.26),\n",
       " ('Netherlands', 7650, 33893, 0.23),\n",
       " ('Uganda', 43938, 197100, 0.22),\n",
       " ('Eritrea', 16600, 101000, 0.16),\n",
       " ('Liberia', 15049, 96320, 0.16)]"
      ]
     },
     "execution_count": 15,
     "metadata": {},
     "output_type": "execute_result"
    }
   ],
   "source": [
    "%%sql \n",
    "SELECT name, area_water, area_land,\n",
    "ROUND(CAST(area_water AS Float) / CAST(area_land AS Float), 2) as Water_Land_Ratio\n",
    "FROM facts\n",
    "ORDER BY Water_Land_Ratio DESC\n",
    "LIMIT 10"
   ]
  },
  {
   "cell_type": "markdown",
   "id": "047de3c7",
   "metadata": {},
   "source": [
    "We can see there are only 2 countries with more water than land, `British Indian Ocean Territory` and ` Virgin Islands`. This makes sense as these two countries are island nations with oceans around them. We also see other island nations in the top ten such as `Puerto Rico` and `The Bahamas` with ratios of 0.55 and 0.39 respectively. We also see countries with large coast lines such as Guinea-Bissau and Netherlands. Surprisingly, we also see landlocked countries on this list such as `Uganda` and `Malawi` due to Lake Victoria and Lake Malawi which are large freshwater lakes."
   ]
  },
  {
   "cell_type": "markdown",
   "id": "1d2ed791",
   "metadata": {},
   "source": [
    "## __Population to Area__"
   ]
  },
  {
   "cell_type": "markdown",
   "id": "a3bf57f3",
   "metadata": {},
   "source": [
    "In this last part of our analysis, we will compare a countries population to area. Before we looked at countries that have an above average population and area and we can compare these two outputs. To calculate the population to are ratio we can divide the country’s population column by the country’s area. Again we will use the ROUND() and CAST() functions to convert the values to Floats. "
   ]
  },
  {
   "cell_type": "code",
   "execution_count": 16,
   "id": "6c14abdc",
   "metadata": {},
   "outputs": [
    {
     "name": "stdout",
     "output_type": "stream",
     "text": [
      " * sqlite:///factbook.db\n",
      "Done.\n"
     ]
    },
    {
     "data": {
      "text/html": [
       "<table>\n",
       "    <thead>\n",
       "        <tr>\n",
       "            <th>name</th>\n",
       "            <th>population</th>\n",
       "            <th>area</th>\n",
       "            <th>Pop_Area_Ratio</th>\n",
       "        </tr>\n",
       "    </thead>\n",
       "    <tbody>\n",
       "        <tr>\n",
       "            <td>Macau</td>\n",
       "            <td>592731</td>\n",
       "            <td>28</td>\n",
       "            <td>21169.0</td>\n",
       "        </tr>\n",
       "        <tr>\n",
       "            <td>Monaco</td>\n",
       "            <td>30535</td>\n",
       "            <td>2</td>\n",
       "            <td>15267.5</td>\n",
       "        </tr>\n",
       "        <tr>\n",
       "            <td>Singapore</td>\n",
       "            <td>5674472</td>\n",
       "            <td>697</td>\n",
       "            <td>8141.3</td>\n",
       "        </tr>\n",
       "        <tr>\n",
       "            <td>Hong Kong</td>\n",
       "            <td>7141106</td>\n",
       "            <td>1108</td>\n",
       "            <td>6445.0</td>\n",
       "        </tr>\n",
       "        <tr>\n",
       "            <td>Gaza Strip</td>\n",
       "            <td>1869055</td>\n",
       "            <td>360</td>\n",
       "            <td>5191.8</td>\n",
       "        </tr>\n",
       "        <tr>\n",
       "            <td>Gibraltar</td>\n",
       "            <td>29258</td>\n",
       "            <td>6</td>\n",
       "            <td>4876.3</td>\n",
       "        </tr>\n",
       "        <tr>\n",
       "            <td>Bahrain</td>\n",
       "            <td>1346613</td>\n",
       "            <td>760</td>\n",
       "            <td>1771.9</td>\n",
       "        </tr>\n",
       "        <tr>\n",
       "            <td>Maldives</td>\n",
       "            <td>393253</td>\n",
       "            <td>298</td>\n",
       "            <td>1319.6</td>\n",
       "        </tr>\n",
       "        <tr>\n",
       "            <td>Malta</td>\n",
       "            <td>413965</td>\n",
       "            <td>316</td>\n",
       "            <td>1310.0</td>\n",
       "        </tr>\n",
       "        <tr>\n",
       "            <td>Bermuda</td>\n",
       "            <td>70196</td>\n",
       "            <td>54</td>\n",
       "            <td>1299.9</td>\n",
       "        </tr>\n",
       "    </tbody>\n",
       "</table>"
      ],
      "text/plain": [
       "[('Macau', 592731, 28, 21169.0),\n",
       " ('Monaco', 30535, 2, 15267.5),\n",
       " ('Singapore', 5674472, 697, 8141.3),\n",
       " ('Hong Kong', 7141106, 1108, 6445.0),\n",
       " ('Gaza Strip', 1869055, 360, 5191.8),\n",
       " ('Gibraltar', 29258, 6, 4876.3),\n",
       " ('Bahrain', 1346613, 760, 1771.9),\n",
       " ('Maldives', 393253, 298, 1319.6),\n",
       " ('Malta', 413965, 316, 1310.0),\n",
       " ('Bermuda', 70196, 54, 1299.9)]"
      ]
     },
     "execution_count": 16,
     "metadata": {},
     "output_type": "execute_result"
    }
   ],
   "source": [
    "%%sql\n",
    "SELECT name, population, area,\n",
    "Round(CAST(population AS Float) / CAST(area AS Float),1) AS Pop_Area_Ratio\n",
    "FROM facts \n",
    "WHERE name NOT IN ('World', 'European Union')\n",
    "ORDER BY Pop_Area_Ratio DESC\n",
    "LIMIT 10"
   ]
  },
  {
   "cell_type": "markdown",
   "id": "d4d9c58f",
   "metadata": {},
   "source": [
    "We can see that the countries with the highest `Pop_Area_Ratio` are incredibly small countries with large cities such as Macau, Monaco and Singapore. We can now compare this to our earlier query where we looked for countries that have an above average population and area. This time however we will add an `ORDER BY` clause to order by both the population first and then by area and we will add our `Pop_Area_Ratio` column to compare our tables.   "
   ]
  },
  {
   "cell_type": "markdown",
   "id": "4f42aa00",
   "metadata": {},
   "source": [
    "### __Pop_Area_Ratio Compared to Population and Area__"
   ]
  },
  {
   "cell_type": "markdown",
   "id": "8622896e",
   "metadata": {},
   "source": [
    "#### __Ordering Countries by Population__"
   ]
  },
  {
   "cell_type": "code",
   "execution_count": 17,
   "id": "e81287e2",
   "metadata": {
    "scrolled": true
   },
   "outputs": [
    {
     "name": "stdout",
     "output_type": "stream",
     "text": [
      " * sqlite:///factbook.db\n",
      "Done.\n"
     ]
    },
    {
     "data": {
      "text/html": [
       "<table>\n",
       "    <thead>\n",
       "        <tr>\n",
       "            <th>name</th>\n",
       "            <th>population</th>\n",
       "            <th>area</th>\n",
       "            <th>Pop_Area_Ratio</th>\n",
       "        </tr>\n",
       "    </thead>\n",
       "    <tbody>\n",
       "        <tr>\n",
       "            <td>China</td>\n",
       "            <td>1367485388</td>\n",
       "            <td>9596960</td>\n",
       "            <td>142.5</td>\n",
       "        </tr>\n",
       "        <tr>\n",
       "            <td>India</td>\n",
       "            <td>1251695584</td>\n",
       "            <td>3287263</td>\n",
       "            <td>380.8</td>\n",
       "        </tr>\n",
       "        <tr>\n",
       "            <td>United States</td>\n",
       "            <td>321368864</td>\n",
       "            <td>9826675</td>\n",
       "            <td>32.7</td>\n",
       "        </tr>\n",
       "        <tr>\n",
       "            <td>Indonesia</td>\n",
       "            <td>255993674</td>\n",
       "            <td>1904569</td>\n",
       "            <td>134.4</td>\n",
       "        </tr>\n",
       "        <tr>\n",
       "            <td>Brazil</td>\n",
       "            <td>204259812</td>\n",
       "            <td>8515770</td>\n",
       "            <td>24.0</td>\n",
       "        </tr>\n",
       "        <tr>\n",
       "            <td>Pakistan</td>\n",
       "            <td>199085847</td>\n",
       "            <td>796095</td>\n",
       "            <td>250.1</td>\n",
       "        </tr>\n",
       "        <tr>\n",
       "            <td>Nigeria</td>\n",
       "            <td>181562056</td>\n",
       "            <td>923768</td>\n",
       "            <td>196.5</td>\n",
       "        </tr>\n",
       "        <tr>\n",
       "            <td>Russia</td>\n",
       "            <td>142423773</td>\n",
       "            <td>17098242</td>\n",
       "            <td>8.3</td>\n",
       "        </tr>\n",
       "        <tr>\n",
       "            <td>Mexico</td>\n",
       "            <td>121736809</td>\n",
       "            <td>1964375</td>\n",
       "            <td>62.0</td>\n",
       "        </tr>\n",
       "        <tr>\n",
       "            <td>Ethiopia</td>\n",
       "            <td>99465819</td>\n",
       "            <td>1104300</td>\n",
       "            <td>90.1</td>\n",
       "        </tr>\n",
       "    </tbody>\n",
       "</table>"
      ],
      "text/plain": [
       "[('China', 1367485388, 9596960, 142.5),\n",
       " ('India', 1251695584, 3287263, 380.8),\n",
       " ('United States', 321368864, 9826675, 32.7),\n",
       " ('Indonesia', 255993674, 1904569, 134.4),\n",
       " ('Brazil', 204259812, 8515770, 24.0),\n",
       " ('Pakistan', 199085847, 796095, 250.1),\n",
       " ('Nigeria', 181562056, 923768, 196.5),\n",
       " ('Russia', 142423773, 17098242, 8.3),\n",
       " ('Mexico', 121736809, 1964375, 62.0),\n",
       " ('Ethiopia', 99465819, 1104300, 90.1)]"
      ]
     },
     "execution_count": 17,
     "metadata": {},
     "output_type": "execute_result"
    }
   ],
   "source": [
    "%%sql \n",
    "SELECT name, population, area,\n",
    "Round(CAST(population AS Float) / CAST(area AS Float),1) AS Pop_Area_Ratio\n",
    "FROM facts\n",
    "WHERE population > (SELECT AVG(population) \n",
    "                    FROM facts\n",
    "                    WHERE name NOT IN ('World', 'European Union'))\n",
    "    AND area > (SELECT AVG(area)\n",
    "                FROM facts)\n",
    "    AND name NOT IN ('World', 'European Union')\n",
    "ORDER BY population DESC\n",
    "LIMIT 10"
   ]
  },
  {
   "cell_type": "markdown",
   "id": "11d57d2f",
   "metadata": {},
   "source": [
    "#### __Ordering Countries by Area__"
   ]
  },
  {
   "cell_type": "code",
   "execution_count": 18,
   "id": "d1f50cb9",
   "metadata": {},
   "outputs": [
    {
     "name": "stdout",
     "output_type": "stream",
     "text": [
      " * sqlite:///factbook.db\n",
      "Done.\n"
     ]
    },
    {
     "data": {
      "text/html": [
       "<table>\n",
       "    <thead>\n",
       "        <tr>\n",
       "            <th>name</th>\n",
       "            <th>population</th>\n",
       "            <th>area</th>\n",
       "            <th>Pop_Area_Ratio</th>\n",
       "        </tr>\n",
       "    </thead>\n",
       "    <tbody>\n",
       "        <tr>\n",
       "            <td>Russia</td>\n",
       "            <td>142423773</td>\n",
       "            <td>17098242</td>\n",
       "            <td>8.3</td>\n",
       "        </tr>\n",
       "        <tr>\n",
       "            <td>Canada</td>\n",
       "            <td>35099836</td>\n",
       "            <td>9984670</td>\n",
       "            <td>3.5</td>\n",
       "        </tr>\n",
       "        <tr>\n",
       "            <td>United States</td>\n",
       "            <td>321368864</td>\n",
       "            <td>9826675</td>\n",
       "            <td>32.7</td>\n",
       "        </tr>\n",
       "        <tr>\n",
       "            <td>China</td>\n",
       "            <td>1367485388</td>\n",
       "            <td>9596960</td>\n",
       "            <td>142.5</td>\n",
       "        </tr>\n",
       "        <tr>\n",
       "            <td>Brazil</td>\n",
       "            <td>204259812</td>\n",
       "            <td>8515770</td>\n",
       "            <td>24.0</td>\n",
       "        </tr>\n",
       "        <tr>\n",
       "            <td>India</td>\n",
       "            <td>1251695584</td>\n",
       "            <td>3287263</td>\n",
       "            <td>380.8</td>\n",
       "        </tr>\n",
       "        <tr>\n",
       "            <td>Argentina</td>\n",
       "            <td>43431886</td>\n",
       "            <td>2780400</td>\n",
       "            <td>15.6</td>\n",
       "        </tr>\n",
       "        <tr>\n",
       "            <td>Algeria</td>\n",
       "            <td>39542166</td>\n",
       "            <td>2381741</td>\n",
       "            <td>16.6</td>\n",
       "        </tr>\n",
       "        <tr>\n",
       "            <td>Congo, Democratic Republic of the</td>\n",
       "            <td>79375136</td>\n",
       "            <td>2344858</td>\n",
       "            <td>33.9</td>\n",
       "        </tr>\n",
       "        <tr>\n",
       "            <td>Mexico</td>\n",
       "            <td>121736809</td>\n",
       "            <td>1964375</td>\n",
       "            <td>62.0</td>\n",
       "        </tr>\n",
       "    </tbody>\n",
       "</table>"
      ],
      "text/plain": [
       "[('Russia', 142423773, 17098242, 8.3),\n",
       " ('Canada', 35099836, 9984670, 3.5),\n",
       " ('United States', 321368864, 9826675, 32.7),\n",
       " ('China', 1367485388, 9596960, 142.5),\n",
       " ('Brazil', 204259812, 8515770, 24.0),\n",
       " ('India', 1251695584, 3287263, 380.8),\n",
       " ('Argentina', 43431886, 2780400, 15.6),\n",
       " ('Algeria', 39542166, 2381741, 16.6),\n",
       " ('Congo, Democratic Republic of the', 79375136, 2344858, 33.9),\n",
       " ('Mexico', 121736809, 1964375, 62.0)]"
      ]
     },
     "execution_count": 18,
     "metadata": {},
     "output_type": "execute_result"
    }
   ],
   "source": [
    "%%sql \n",
    "SELECT name, population, area,\n",
    "Round(CAST(population AS Float) / CAST(area AS Float),1) AS Pop_Area_Ratio\n",
    "FROM facts\n",
    "WHERE population > (SELECT AVG(population) \n",
    "                    FROM facts\n",
    "                    WHERE name != 'World' OR 'European Union')\n",
    "      AND area > (SELECT AVG(area)\n",
    "                            FROM facts)\n",
    "      AND name NOT IN ('World', 'European Union')\n",
    "ORDER BY area DESC\n",
    "LIMIT 10"
   ]
  },
  {
   "cell_type": "markdown",
   "id": "35d3f8e6",
   "metadata": {},
   "source": [
    "We can see that none of the rows from ` Pop_Area_Ratio` appear in our population of area table. China which is country with the highest population has a population/area ratio almost 150 smaller than its neighboring county Macau. This is the same case for Russia which has the largest area, Russia’s population/area is 2000 times smaller than Macau. "
   ]
  },
  {
   "cell_type": "markdown",
   "id": "fb27cd0b",
   "metadata": {},
   "source": [
    "# __Conclusion__"
   ]
  },
  {
   "cell_type": "markdown",
   "id": "d869ef39",
   "metadata": {},
   "source": [
    "In this project we were able to import our FactBook database and analyse it by successfully running SQL in Jupyter Notebook.  Using SQL, we where able to determine several things about worldwide population.\n",
    "- We found that India will have the largest population increase within the next year, Increasing its population by 15 million \n",
    "- We found that several countries in Europe and Japan have a higher `death_rate` than `birth_rate`.\n",
    "- Only 2 countries have more water area than land area and some landlocked countries have high water area.\n",
    "- Countries with high population and area have a small population to area ratio. \n",
    "\n",
    "A way to expand this analysis in the future would be to include more data from the CIA Factbook and look at other aspects like `Land_Use`, `Natural_Resoutces`, `Languages`, `Religion`."
   ]
  }
 ],
 "metadata": {
  "kernelspec": {
   "display_name": "Python 3",
   "language": "python",
   "name": "python3"
  },
  "language_info": {
   "codemirror_mode": {
    "name": "ipython",
    "version": 3
   },
   "file_extension": ".py",
   "mimetype": "text/x-python",
   "name": "python",
   "nbconvert_exporter": "python",
   "pygments_lexer": "ipython3",
   "version": "3.8.8"
  }
 },
 "nbformat": 4,
 "nbformat_minor": 5
}
